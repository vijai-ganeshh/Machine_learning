{
 "cells": [
  {
   "cell_type": "code",
   "execution_count": 13,
   "id": "810c9b2a",
   "metadata": {},
   "outputs": [
    {
     "data": {
      "text/plain": [
       "<sqlite3.Connection at 0x2104e5418a0>"
      ]
     },
     "execution_count": 13,
     "metadata": {},
     "output_type": "execute_result"
    }
   ],
   "source": [
    "## Connect to SqLite Database\n",
    "import sqlite3\n",
    "connection = sqlite3.connect('example.db')\n",
    "connection"
   ]
  },
  {
   "cell_type": "code",
   "execution_count": 14,
   "id": "d4d79a81",
   "metadata": {},
   "outputs": [],
   "source": [
    "cursor = connection.cursor()"
   ]
  },
  {
   "cell_type": "code",
   "execution_count": 15,
   "id": "66e180ce",
   "metadata": {},
   "outputs": [],
   "source": [
    "##Create a Table\n",
    "cursor.execute('''\n",
    "Create Table If Not Exists employees(\n",
    "      id Integer Primary key,\n",
    "      name Text Not Null,\n",
    "      age Integer,\n",
    "      department text\n",
    "      )               \n",
    "''')\n",
    "\n",
    "## Commit The Changes\n",
    "connection.commit()"
   ]
  },
  {
   "cell_type": "code",
   "execution_count": 16,
   "id": "d63640bb",
   "metadata": {},
   "outputs": [
    {
     "data": {
      "text/plain": [
       "<sqlite3.Cursor at 0x2104e759140>"
      ]
     },
     "execution_count": 16,
     "metadata": {},
     "output_type": "execute_result"
    }
   ],
   "source": [
    "cursor.execute('''\n",
    "  Select * from employees               \n",
    "               \n",
    "''')"
   ]
  },
  {
   "cell_type": "code",
   "execution_count": 17,
   "id": "5a0f8632",
   "metadata": {},
   "outputs": [],
   "source": [
    "##Insert The Data In Sqlite3\n",
    "cursor.execute('''\n",
    "  Insert  INTO employees(name,age,department)\n",
    "  values('vijai',21,'Data Scientist')         \n",
    "              \n",
    "''')\n",
    "\n",
    "cursor.execute('''\n",
    "Insert OR IGNORE INTO employees(name,age,department) \n",
    "Values('Rohit',45,'Engineer')\n",
    "               \n",
    "''')\n",
    "\n",
    "cursor.execute('''\n",
    "      INSERT OR IGNORE INTO employees(name,age,department)         \n",
    "      VALUES('Kohli',18,'Cricket')\n",
    "      ''')\n",
    "\n",
    "## Commit changes after CRUD operations\n",
    "connection.commit()\n"
   ]
  },
  {
   "cell_type": "code",
   "execution_count": 18,
   "id": "01ce38df",
   "metadata": {},
   "outputs": [
    {
     "name": "stdout",
     "output_type": "stream",
     "text": [
      "(1, 'vijai', 21, 'Data Scientist')\n",
      "(2, 'Rohit', 45, 'Engineer')\n",
      "(3, 'Kohli', 18, 'Cricket')\n"
     ]
    }
   ],
   "source": [
    "cursor.execute('Select * from employees')\n",
    "rows = cursor.fetchall()\n",
    "for row in rows:\n",
    "  print(row)"
   ]
  },
  {
   "cell_type": "code",
   "execution_count": null,
   "id": "934d3841",
   "metadata": {},
   "outputs": [],
   "source": [
    "#DROP TABLE  FOR DELETION \n",
    "\n",
    "# cursor.execute('Drop TABLE IF EXISTS employees')\n",
    "# cursor.commit()\n"
   ]
  },
  {
   "cell_type": "code",
   "execution_count": 19,
   "id": "6901e2cb",
   "metadata": {},
   "outputs": [],
   "source": [
    "#Update the data in the table\n",
    "cursor.execute('''\n",
    "UPDATE employees\n",
    "Set age=261\n",
    "WHERE name=\"Kohli\"               \n",
    "''')\n",
    "connection.commit()"
   ]
  },
  {
   "cell_type": "code",
   "execution_count": 20,
   "id": "5a095f19",
   "metadata": {},
   "outputs": [],
   "source": [
    "## Delete the data from the table \n",
    "cursor.execute('''\n",
    "Delete from employees\n",
    "where name = 'Rohit'               \n",
    "''')\n",
    "connection.commit()"
   ]
  },
  {
   "cell_type": "code",
   "execution_count": null,
   "id": "9e06cd90",
   "metadata": {},
   "outputs": [
    {
     "name": "stdout",
     "output_type": "stream",
     "text": [
      "(1, 'vijai', 21, 'Data Scientist')\n",
      "(3, 'Kohli', 261, 'Cricket')\n"
     ]
    }
   ],
   "source": [
    "cursor.execute('select * from employees')\n",
    "rows = cursor.fetchall()\n",
    "\n",
    "for row in rows:\n",
    "  print(row)"
   ]
  },
  {
   "cell_type": "code",
   "execution_count": 24,
   "id": "69b0e3bb",
   "metadata": {},
   "outputs": [],
   "source": [
    "## PROJECT ON SALES DATA WITH SQLITE3\n",
    "connection = sqlite3.connect('sales_data.db')\n",
    "cursor = connection.cursor()\n",
    "\n",
    "# CREATE A TABLE FOR SALES DATA\n",
    "cursor.execute('''\n",
    "CREATE TABLE IF NOT EXISTS sales (\n",
    "  id INTEGER PRIMARY KEY,\n",
    "  date TEXT NOT NULL,\n",
    "  product TEXT NOT NULL,\n",
    "  sales INTEGER,\n",
    "  region TEXT\n",
    ")               \n",
    "\n",
    "''')\n",
    "\n",
    "## INSERT DATA INTO SALES TABLE\n",
    "\n",
    "sales_data = [\n",
    "  ('2023-01-01','PRODUCT1',100,'NORTH'),\n",
    "  ('2024-01-01','PRODUCT2',100,'NORTH'),\n",
    "  ('2023-01-03','PRODUCT1',150,'NORTH'),\n",
    "  ('2024-01-03','PRODUCT2',200,'NORTH'),\n",
    "  ('2025-02-01','PRODUCT3',300,'NORTH')\n",
    "]\n",
    "\n",
    "cursor.executemany('''\n",
    "                INSERT INTO sales(date,product,sales,region) \n",
    "                values(?,?,?,?)\n",
    "                  ''',sales_data)\n",
    "\n",
    "connection.commit()"
   ]
  },
  {
   "cell_type": "code",
   "execution_count": 25,
   "id": "c596e54b",
   "metadata": {},
   "outputs": [
    {
     "name": "stdout",
     "output_type": "stream",
     "text": [
      "(1, '2023-01-01', 'PRODUCT1', 100, 'NORTH')\n",
      "(2, '2024-01-01', 'PRODUCT2', 100, 'NORTH')\n",
      "(3, '2023-01-03', 'PRODUCT1', 150, 'NORTH')\n",
      "(4, '2024-01-03', 'PRODUCT2', 200, 'NORTH')\n",
      "(5, '2025-02-01', 'PRODUCT3', 300, 'NORTH')\n"
     ]
    }
   ],
   "source": [
    "cursor.execute('Select * from sales')\n",
    "rows = cursor.fetchall()\n",
    "for row in rows:\n",
    "  print(row)"
   ]
  },
  {
   "cell_type": "code",
   "execution_count": 26,
   "id": "4dfc1ebe",
   "metadata": {},
   "outputs": [],
   "source": [
    "## CLOSE THE CONNECTION\n",
    "connection.close()"
   ]
  },
  {
   "cell_type": "code",
   "execution_count": 27,
   "id": "433b9c34",
   "metadata": {},
   "outputs": [
    {
     "ename": "ProgrammingError",
     "evalue": "Cannot operate on a closed database.",
     "output_type": "error",
     "traceback": [
      "\u001b[31m---------------------------------------------------------------------------\u001b[39m",
      "\u001b[31mProgrammingError\u001b[39m                          Traceback (most recent call last)",
      "\u001b[36mCell\u001b[39m\u001b[36m \u001b[39m\u001b[32mIn[27]\u001b[39m\u001b[32m, line 1\u001b[39m\n\u001b[32m----> \u001b[39m\u001b[32m1\u001b[39m \u001b[43mcursor\u001b[49m\u001b[43m.\u001b[49m\u001b[43mexecute\u001b[49m\u001b[43m(\u001b[49m\u001b[33;43m'\u001b[39;49m\u001b[33;43mSelect * from sales\u001b[39;49m\u001b[33;43m'\u001b[39;49m\u001b[43m)\u001b[49m\n\u001b[32m      2\u001b[39m rows = cursor.fetchall()\n\u001b[32m      3\u001b[39m \u001b[38;5;28;01mfor\u001b[39;00m row \u001b[38;5;129;01min\u001b[39;00m rows:\n",
      "\u001b[31mProgrammingError\u001b[39m: Cannot operate on a closed database."
     ]
    }
   ],
   "source": [
    "cursor.execute('Select * from sales')\n",
    "rows = cursor.fetchall()\n",
    "for row in rows:\n",
    "  print(row)"
   ]
  },
  {
   "cell_type": "code",
   "execution_count": null,
   "id": "7fc362f6",
   "metadata": {},
   "outputs": [],
   "source": []
  }
 ],
 "metadata": {
  "kernelspec": {
   "display_name": "Python 3",
   "language": "python",
   "name": "python3"
  },
  "language_info": {
   "codemirror_mode": {
    "name": "ipython",
    "version": 3
   },
   "file_extension": ".py",
   "mimetype": "text/x-python",
   "name": "python",
   "nbconvert_exporter": "python",
   "pygments_lexer": "ipython3",
   "version": "3.12.0"
  }
 },
 "nbformat": 4,
 "nbformat_minor": 5
}
